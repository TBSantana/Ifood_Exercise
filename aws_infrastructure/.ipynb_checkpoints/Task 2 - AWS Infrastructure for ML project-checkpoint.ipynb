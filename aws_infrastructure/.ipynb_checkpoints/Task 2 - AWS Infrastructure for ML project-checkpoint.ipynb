{
 "cells": [
  {
   "cell_type": "markdown",
   "metadata": {},
   "source": [
    "# AWS Infrastructure for ML\n",
    "\n",
    "<img src = \"images/AWS Infra.png\">"
   ]
  },
  {
   "cell_type": "markdown",
   "metadata": {},
   "source": [
    "## Sagemaker\n",
    "\n",
    "### O que é?\n",
    "Um serviço gerenciado para dar suporte à pipline end-to-end de ML desde rotulação, treinamento, teste, deploy e monitoramento.\n",
    "\n",
    "### Vantagens\n",
    " + Abustração no gerenciamento da infraestrutura\n",
    " + Redução de 54% no TCO (Total Coast Ownership)\n",
    " + Fornece containers otimizados de frameworks como Tensorflow, capazes de gerar uma redução de até 90% no custo de treinamento\n",
    " \n",
    "### Tuning\n",
    "HPO - Hyper parameter Optimization\n",
    "Optimiza automaticamente os hiperparâmetros desde a parte da infraestrutura (mpaquinas rodando o treinamento) até a  distribuição do processamento do treino.\n",
    "\n",
    "### Model Management\n",
    "Salva os artefatos do modelo na S3. Modelo: Container + artefato do S3. \n",
    "O sagemaker sobe o container e, se existir, puxa os artefatos da S3. A partir daí, o modelo está pronto para realizar inferências.\n",
    "\n",
    "### Sagemaker in Dev\n",
    " + Possível desenvolver em instâncias do Jupyter Notebooks gerenciadas pelo Sagemaker\n",
    " + Notebooks dentro do ```Sagemaker Studio``` (IDE) online com o Jupyter Lab integrado com todos os outros componentes do Sagemaker - gráficos de erro ao longo do treino\n",
    " + ```Sagemaker Debuging``` - Salva todos os estados intermediários conforme o modelo está sendo treinado. Permite debugar o comportamento da aprendizado e, se for o caso, interromper o treinamento para não consumir tempo da equipe e, principalmente, não consumir custo de treinamento. Permite a criação de regras para emitir alertas de monitoramento e interromper a execução do treinamento de forma automatizada.\n",
    " \n",
    "### Ground truth\n",
    "É um serviço de rotulação de datasets. Utiliza rolutadores humanos, mas seu diferencial está nas técnicas de rotulação automática, como o Active Learning. Utiliza os dados já rotulados para criar um modelo preditivo e rotular os dados não rotulados com o valor predito, caso a métrica da predição seja satisfatória.\n",
    "\n",
    "### Auto Pilet\n",
    "Auto ML - o usuário indica referencia o dataset na S3 (dados tabulares) e a coluna de target no dataset. A partir daí, o Auto Pilet executa todo o processo de análise dos dados e treinamento do modelo. Ele usa vários algoritmos e otimização de hiperparâmetros e, ao final entrega o melhor modelo obtido. \n",
    "Contudo, ele não é caixa preta: é possível visualizar o Notebook que gerou o respectivo modelo.\n",
    "\n",
    "### MLOps - Model Monitor\n",
    "Etrutura de pipelines de ML em Produção.\n",
    "Após o Deploy, o comportamento do modelo precisa ser monitorado. Analisa o dataset de treino e o compara com os dados novos. Se o comportamento dos dados atuais diferem muito dos dados de treino, é um forte indicativo para a realização de retreino.\n",
    " + Pipeline de Treinamento\n",
    " + Pipelne de Deploy\n",
    " + Pipeline de Retreinamento"
   ]
  }
 ],
 "metadata": {
  "kernelspec": {
   "display_name": "Python 3",
   "language": "python",
   "name": "python3"
  },
  "language_info": {
   "codemirror_mode": {
    "name": "ipython",
    "version": 3
   },
   "file_extension": ".py",
   "mimetype": "text/x-python",
   "name": "python",
   "nbconvert_exporter": "python",
   "pygments_lexer": "ipython3",
   "version": "3.6.2"
  }
 },
 "nbformat": 4,
 "nbformat_minor": 4
}
