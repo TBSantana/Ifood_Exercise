{
 "cells": [
  {
   "cell_type": "code",
   "execution_count": 2,
   "metadata": {},
   "outputs": [],
   "source": [
    "import pandas as pd\n",
    "import numpy as np\n",
    "import json\n",
    "from pathlib import Path"
   ]
  },
  {
   "cell_type": "code",
   "execution_count": 3,
   "metadata": {},
   "outputs": [],
   "source": [
    "ROOT_PATH = Path().resolve().parent"
   ]
  },
  {
   "cell_type": "code",
   "execution_count": 4,
   "metadata": {},
   "outputs": [],
   "source": [
    "train_set = pd.read_csv(ROOT_PATH / 'preprocessed_data/cleanedTrain.csv')\n",
    "test_set = pd.read_csv(ROOT_PATH / 'preprocessed_data/cleanedTest.csv')"
   ]
  },
  {
   "cell_type": "code",
   "execution_count": 5,
   "metadata": {},
   "outputs": [],
   "source": [
    "# Numerical variables can be dicrete or continuous:\n",
    "discrete_variables = ['Rooms', 'Bedroom2', 'Bathroom', 'Car']\n",
    "continuous_variables = ['Propertycount', 'Landsize', 'BuildingArea']\n",
    "\n",
    "temporal_variables = ['Date', 'YearBuilt']\n",
    "categorical_variables = ['SellerG', 'Method', 'Suburb', 'Address', \n",
    "                         'Postcode', 'CouncilArea', 'Regionname', 'Type']\n",
    "geolocation = ['Lattitude', 'Longtitude']"
   ]
  },
  {
   "cell_type": "code",
   "execution_count": 6,
   "metadata": {},
   "outputs": [],
   "source": [
    "def log_transformation(df, origin, target):\n",
    "    df[target] = df[origin].map(lambda x: np.log(x) if x > 0 else 0)\n",
    "    return df"
   ]
  },
  {
   "cell_type": "code",
   "execution_count": 7,
   "metadata": {},
   "outputs": [],
   "source": [
    "# Tranformation on the target value\n",
    "train_set = log_transformation(train_set, origin='Price', target='Pricelog')"
   ]
  },
  {
   "cell_type": "code",
   "execution_count": 15,
   "metadata": {},
   "outputs": [],
   "source": [
    "# Transformation on the continuos variables\n",
    "def transform_continuos(train_set, test_set, continuous_variables):\n",
    "    \n",
    "    # Tranformation on the target value\n",
    "    train_set = log_transformation(train_set, origin='Price', target='Pricelog')\n",
    "    \n",
    "    for cont in continuous_variables:\n",
    "        train_set = log_transformation(train_set, origin=cont, target=cont + 'log')\n",
    "        test_set = log_transformation(test_set, origin=cont, target=cont + 'log')\n",
    "    return train_set, test_set"
   ]
  },
  {
   "cell_type": "code",
   "execution_count": 19,
   "metadata": {},
   "outputs": [],
   "source": [
    "def transform_temporal_variables(train_set, test_set):\n",
    "\n",
    "    # Temporal variables:\n",
    "    train_set.loc[:, 'Date'] = pd.to_datetime(train_set['Date']).dt.strftime('%m-%Y')\n",
    "    test_set.loc[:, 'Date'] = pd.to_datetime(test_set['Date']).dt.strftime('%m-%Y')\n",
    "\n",
    "    # Filling in 'YearBuilt' with the mode\n",
    "    train_set.loc[:, 'YearBuilt'] = train_set['YearBuilt'].fillna(train_set['YearBuilt'].mode()[0])\n",
    "    test_set.loc[:, 'YearBuilt'] = test_set['YearBuilt'].fillna(test_set['YearBuilt'].mode()[0])\n",
    "\n",
    "    # Create a new variable as the Age of the building\n",
    "    train_set.loc[:, 'Age'] = train_set.apply(lambda x: \n",
    "                                              pd.to_numeric(x['Date'].split('-')[1]) - x['YearBuilt'], axis=1)\n",
    "    test_set.loc[:, 'Age'] = test_set.apply(lambda x: \n",
    "                                            pd.to_numeric(x['Date'].split('-')[1]) - x['YearBuilt'], axis=1)\n",
    "    return train_set, test_set"
   ]
  },
  {
   "cell_type": "code",
   "execution_count": 23,
   "metadata": {},
   "outputs": [],
   "source": [
    "def transform_categorical(train_set, test_set):\n",
    "\n",
    "    train_set.loc[:, 'stname'] = train_set['Address'].map(lambda x:' '.join(x.split(' ')[1:]))\n",
    "    test_set.loc[:, 'stname'] = test_set['Address'].map(lambda x:' '.join(x.split(' ')[1:]))\n",
    "\n",
    "    train_set.drop(columns='Address', inplace=True)\n",
    "    test_set.drop(columns='Address', inplace=True)\n",
    "\n",
    "    categorical_variables.remove('Address')\n",
    "    categorical_variables.append('stname')\n",
    "\n",
    "    # Encoder that will be used before prediction       \n",
    "    cat_encoder = {}\n",
    "\n",
    "    # Encode the categorical variables to 'Price'\n",
    "    fulldf = pd.concat([train_set, test_set], ignore_index=True)\n",
    "    for cat in categorical_variables:\n",
    "        temp = fulldf[[cat, 'Price']].groupby(cat).count() / fulldf.shape[0]\n",
    "        temp_df = temp[temp > 0.01].index\n",
    "        fulldf[cat]=np.where(fulldf[cat].isin(temp_df),fulldf[cat],'irrelevant')\n",
    "\n",
    "    for cat in categorical_variables:\n",
    "        labels_ordered = fulldf.groupby([cat])['Price'].mean().sort_values().index\n",
    "        labels_ordered = {k:i for i, k in enumerate(labels_ordered,1)}\n",
    "\n",
    "        cat_encoder[cat] = labels_ordered    \n",
    "        fulldf[cat] = fulldf[cat].map(labels_ordered)\n",
    "\n",
    "    for cat in categorical_variables:\n",
    "        train_set.loc[:, cat] = fulldf.loc[:train_set.shape[0], cat]\n",
    "        test_set.loc[:, cat] = fulldf.loc[train_set.shape[0]:, cat].values\n",
    "\n",
    "    # Encode the categorical variables to 'BuildingArea'\n",
    "    fulldf2 = pd.concat([train_set, test_set], ignore_index=True)\n",
    "    for cat in categorical_variables:\n",
    "        temp = fulldf2[[cat, 'BuildingArea']].groupby(cat).count() / fulldf2.shape[0]\n",
    "        temp_df = temp[temp > 0.01].index\n",
    "        fulldf2[cat]=np.where(fulldf2[cat].isin(temp_df),fulldf2[cat],'irrelevant')\n",
    "\n",
    "    for cat in categorical_variables:\n",
    "        labels_ordered = fulldf2.groupby([cat])['BuildingArea'].mean().sort_values().index\n",
    "        labels_ordered = {k:i for i, k in enumerate(labels_ordered,1)}\n",
    "        fulldf2[cat] = fulldf2[cat].map(labels_ordered)\n",
    "\n",
    "    train_set2 = train_set.copy()\n",
    "    test_set2 = test_set.copy()\n",
    "\n",
    "    for cat in categorical_variables:\n",
    "        train_set2.loc[:, cat] = fulldf2.loc[:train_set.shape[0], cat]\n",
    "        test_set2.loc[:, cat] = fulldf2.loc[train_set.shape[0]:, cat].values\n",
    "    return train_set, test_set, train_set2, test_set2, cat_encoder"
   ]
  },
  {
   "cell_type": "code",
   "execution_count": 11,
   "metadata": {},
   "outputs": [],
   "source": [
    "def read_data(path):\n",
    "    \n",
    "    ROOT_PATH = Path(path[1]).resolve().parent\n",
    "    train_set = pd.read_csv(ROOT_PATH / 'preprocessed_data/cleanedTrain.csv')\n",
    "    test_set = pd.read_csv(ROOT_PATH / 'preprocessed_data/cleanedTest.csv')    \n",
    "    return train_set_set, test_set"
   ]
  },
  {
   "cell_type": "code",
   "execution_count": 26,
   "metadata": {},
   "outputs": [],
   "source": [
    "def transform_data(path):\n",
    "    \n",
    "    train_set, test_set = read_data(path)\n",
    "    \n",
    "    # Numerical variables can be dicrete or continuous:\n",
    "    discrete_variables = ['Rooms', 'Bedroom2', 'Bathroom', 'Car']\n",
    "    continuous_variables = ['Propertycount', 'Landsize', 'BuildingArea']\n",
    "\n",
    "    temporal_variables = ['Date', 'YearBuilt']\n",
    "    categorical_variables = ['SellerG', 'Method', 'Suburb', 'Address', \n",
    "                             'Postcode', 'CouncilArea', 'Regionname', 'Type']\n",
    "    geolocation = ['Lattitude', 'Longtitude']\n",
    "    \n",
    "    # Tranformation on continuos variables\n",
    "    train_set, test_set = transform_continuos(train_set, test_set, continuous_variables)\n",
    "    \n",
    "    # Transformation on temporal variables:\n",
    "    train_set, test_set = transform_temporal_variables(train_set, test_set)\n",
    "    \n",
    "    # Transformation on categorical variables:\n",
    "    train_set, test_set, train_set2, test_set2, cat_encoder = transform_categorical(train_set, test_set)\n",
    "    \n",
    "    save_data(path, train_set, test_set, train_set2, test_set2, cat_encoder)"
   ]
  },
  {
   "cell_type": "code",
   "execution_count": 25,
   "metadata": {},
   "outputs": [],
   "source": [
    "def save_data(path, train_set, test_set, train_set2, test_set2, cat_encoder):\n",
    "\n",
    "    ROOT_PATH = Path(path[1]).resolve().parent\n",
    "    \n",
    "    for cat in ['Suburb', 'Type', 'Postcode', 'stname']:\n",
    "        with open(ROOT_PATH / 'preprocessed_data/{}_encoder.json'.format(cat), 'w') as encoder:\n",
    "            encoder.write('{}'.format(json.dumps(cat_encoder[cat])))\n",
    "\n",
    "    train_set.to_csv(ROOT_PATH / 'preprocessed_data/price_features_train.csv', index=False)\n",
    "    test_set.to_csv(ROOT_PATH / 'preprocessed_data/price_features_test.csv', index=False)\n",
    "\n",
    "    train_set2.to_csv(ROOT_PATH / 'preprocessed_data/ba_features_train.csv', index=False)\n",
    "    test_set2.to_csv(ROOT_PATH / 'preprocessed_data/ba_features_test.csv', index=False)"
   ]
  }
 ],
 "metadata": {
  "kernelspec": {
   "display_name": "Python 3",
   "language": "python",
   "name": "python3"
  },
  "language_info": {
   "codemirror_mode": {
    "name": "ipython",
    "version": 3
   },
   "file_extension": ".py",
   "mimetype": "text/x-python",
   "name": "python",
   "nbconvert_exporter": "python",
   "pygments_lexer": "ipython3",
   "version": "3.6.2"
  }
 },
 "nbformat": 4,
 "nbformat_minor": 4
}
