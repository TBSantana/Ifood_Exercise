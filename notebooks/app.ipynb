{
 "cells": [
  {
   "cell_type": "code",
   "execution_count": 45,
   "metadata": {},
   "outputs": [],
   "source": [
    "import numpy as np\n",
    "import joblib as jb\n",
    "import json\n",
    "from pathlib import Path\n",
    "import uvicorn\n",
    "from fastapi import FastAPI\n",
    "\n",
    "app = FastAPI()\n",
    "\n",
    "@app.get('/')\n",
    "async def index():\n",
    "    return {'text': 'Oiaaaa!!!'}\n",
    "\n",
    "ROOT_PATH = Path().resolve().parent\n",
    "scaler = jb.load(ROOT_PATH / 'preprocessed_data/scaler.pkl.z')\n",
    "model = jb.load(ROOT_PATH / 'preprocessed_data/model.pkl.z')\n",
    "\n",
    "\n",
    "def categorical_encoder(cat_name, cat_value):\n",
    "    with open(ROOT_PATH / 'preprocessed_data/{}_encoder.json'.format(cat_name), 'r') as file:\n",
    "        data = json.load(file)\n",
    "    values = data.keys()\n",
    "    return data[cat_value] if cat_value in data.keys() else int((values[0]+values[-1])/2)\n",
    "\n",
    "\n",
    "# features order = ['Suburb', 'Rooms', 'Type', 'Postcode', 'stname', 'BuildingArea'] \n",
    "def inputTransformer(raw_list): \n",
    "    \n",
    "    st = re.sub('\\d+', '', raw_list[4]).strip(string.punctuation).strip()\n",
    "    print(st)\n",
    "    suburb = categorical_encoder('Suburb', raw_list[0])\n",
    "    typ = categorical_encoder('Type', raw_list[2])\n",
    "    postcode = categorical_encoder('Postcode', raw_list[3])\n",
    "    stname = categorical_encoder('stname', st)\n",
    "    return [suburb, raw_list[1], typ, postcode, stname, raw_list[5]]\n",
    "\n",
    "def get_prediction(input_data):\n",
    "    X = np.array(inputTransformer(input_data)).reshape(1, -1)\n",
    "    X_poly = scaler.transform(X)\n",
    "    y_hat = model.predict(X_poly)[0]\n",
    "    return np.round(np.exp(y_hat), 2)\n",
    "\n",
    "#if __name__ == '__main__':\n",
    "#    uvicorn.run(app, port=5000, access_log=False)"
   ]
  },
  {
   "cell_type": "code",
   "execution_count": 10,
   "metadata": {},
   "outputs": [],
   "source": [
    "import re\n",
    "import string"
   ]
  },
  {
   "cell_type": "code",
   "execution_count": 48,
   "metadata": {},
   "outputs": [
    {
     "name": "stdout",
     "output_type": "stream",
     "text": [
      "Gladstone St\n"
     ]
    },
    {
     "data": {
      "text/plain": [
       "[140, 2, 1, 81, 2180, 81.0]"
      ]
     },
     "execution_count": 48,
     "metadata": {},
     "output_type": "execute_result"
    }
   ],
   "source": [
    "inputTransformer(['Coburg', 2, 'u', '3058.0', 'Gladstone St ', 81.0])"
   ]
  },
  {
   "cell_type": "code",
   "execution_count": 6,
   "metadata": {},
   "outputs": [
    {
     "data": {
      "text/plain": [
       "'4/34 Gladstone St'"
      ]
     },
     "execution_count": 6,
     "metadata": {},
     "output_type": "execute_result"
    }
   ],
   "source": [
    "'4/34 Gladstone St'.replace('\\d+', '')"
   ]
  },
  {
   "cell_type": "code",
   "execution_count": 32,
   "metadata": {},
   "outputs": [
    {
     "data": {
      "text/plain": [
       "'Gladstone St'"
      ]
     },
     "execution_count": 32,
     "metadata": {},
     "output_type": "execute_result"
    }
   ],
   "source": [
    "re.sub('\\d+', '', '4/34 Gladstone St').strip(string.punctuation).strip()"
   ]
  },
  {
   "cell_type": "code",
   "execution_count": 31,
   "metadata": {},
   "outputs": [
    {
     "data": {
      "text/plain": [
       "'/ Gladstone St'"
      ]
     },
     "execution_count": 31,
     "metadata": {},
     "output_type": "execute_result"
    }
   ],
   "source": [
    "re.sub(r's', '', '4/34 Gladstone St')"
   ]
  },
  {
   "cell_type": "code",
   "execution_count": 42,
   "metadata": {},
   "outputs": [
    {
     "data": {
      "text/plain": [
       "'!\"#$%&\\'()*+,-./:;<=>?@[\\\\]^_`{|}~[d+]'"
      ]
     },
     "execution_count": 42,
     "metadata": {},
     "output_type": "execute_result"
    }
   ],
   "source": [
    "string.punctuation + '[d+]'"
   ]
  },
  {
   "cell_type": "code",
   "execution_count": 43,
   "metadata": {},
   "outputs": [
    {
     "data": {
      "text/plain": [
       "'4/34 Gladstone St'"
      ]
     },
     "execution_count": 43,
     "metadata": {},
     "output_type": "execute_result"
    }
   ],
   "source": [
    "'4/34 Gladstone St'.strip(string.punctuation).strip()"
   ]
  },
  {
   "cell_type": "code",
   "execution_count": null,
   "metadata": {},
   "outputs": [],
   "source": []
  }
 ],
 "metadata": {
  "kernelspec": {
   "display_name": "Python 3",
   "language": "python",
   "name": "python3"
  },
  "language_info": {
   "codemirror_mode": {
    "name": "ipython",
    "version": 3
   },
   "file_extension": ".py",
   "mimetype": "text/x-python",
   "name": "python",
   "nbconvert_exporter": "python",
   "pygments_lexer": "ipython3",
   "version": "3.6.2"
  }
 },
 "nbformat": 4,
 "nbformat_minor": 4
}
