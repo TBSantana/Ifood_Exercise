{
 "cells": [
  {
   "cell_type": "code",
   "execution_count": 2,
   "metadata": {},
   "outputs": [],
   "source": [
    "import numpy as np\n",
    "import joblib as jb\n",
    "import json\n",
    "from pathlib import Path\n",
    "import uvicorn\n",
    "from fastapi import FastAPI\n",
    "\n",
    "app = FastAPI()\n",
    "\n",
    "@app.get('/')\n",
    "async def index():\n",
    "    return {'text': 'Oiaaaa!!!'}\n",
    "\n",
    "ROOT_PATH = Path().resolve().parent\n",
    "scaler = jb.load(ROOT_PATH / 'preprocessed_data/scaler.pkl.z')\n",
    "model = jb.load(ROOT_PATH / 'preprocessed_data/model.pkl.z')\n",
    "\n",
    "\n",
    "def categorical_encoder(cat_name, cat_value):\n",
    "    with open(ROOT_PATH / 'preprocessed_data/{}_encoder.json'.format(cat_name), 'r') as file:\n",
    "        data = json.load(file)\n",
    "    values = data.keys()\n",
    "    return data[cat_value] if cat_value in data.keys() else int((values[0]+values[-1])/2)\n",
    "\n",
    "\n",
    "# features order = ['Suburb', 'Rooms', 'Type', 'Postcode', 'stname', 'BuildingArea'] \n",
    "def inputTransformer(raw_list): \n",
    "    \n",
    "    st = ' '.join(raw_list[4].split(' ')[1:])\n",
    "    suburb = categorical_encoder('Suburb', raw_list[0])\n",
    "    typ = categorical_encoder('Type', raw_list[2])\n",
    "    postcode = categorical_encoder('Postcode', raw_list[3])\n",
    "    stname = categorical_encoder('stname', st)\n",
    "    return [suburb, raw_list[1], typ, postcode, stname, raw_list[5]]\n",
    "\n",
    "def get_prediction(input_data):\n",
    "    X = np.array(inputTransformer(input_data)).reshape(1, -1)\n",
    "    X_poly = scaler.transform(X)\n",
    "    y_hat = model.predict(X_poly)[0]\n",
    "    return np.round(np.exp(y_hat), 2)\n",
    "\n",
    "#if __name__ == '__main__':\n",
    "#    uvicorn.run(app, port=5000, access_log=False)"
   ]
  },
  {
   "cell_type": "code",
   "execution_count": null,
   "metadata": {},
   "outputs": [],
   "source": []
  }
 ],
 "metadata": {
  "kernelspec": {
   "display_name": "Python 3",
   "language": "python",
   "name": "python3"
  },
  "language_info": {
   "codemirror_mode": {
    "name": "ipython",
    "version": 3
   },
   "file_extension": ".py",
   "mimetype": "text/x-python",
   "name": "python",
   "nbconvert_exporter": "python",
   "pygments_lexer": "ipython3",
   "version": "3.6.2"
  }
 },
 "nbformat": 4,
 "nbformat_minor": 4
}
