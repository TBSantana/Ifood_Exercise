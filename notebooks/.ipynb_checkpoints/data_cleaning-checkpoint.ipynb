{
 "cells": [
  {
   "cell_type": "code",
   "execution_count": 2,
   "metadata": {},
   "outputs": [],
   "source": [
    "import pandas as pd\n",
    "from pathlib import Path"
   ]
  },
  {
   "cell_type": "code",
   "execution_count": 3,
   "metadata": {},
   "outputs": [],
   "source": [
    "def read_raw_data(path):\n",
    "    ROOT_PATH = Path(path[1]).resolve().parent\n",
    "    train_set = pd.read_csv(ROOT_PATH / 'data/raw_data/train_set.csv',index_col=0) \n",
    "    test_set = pd.read_csv(ROOT_PATH / 'data/raw_data/test_set.csv',index_col=0)\n",
    "    return train_set, test_set"
   ]
  },
  {
   "cell_type": "code",
   "execution_count": 4,
   "metadata": {},
   "outputs": [],
   "source": [
    "def remove_na(df):\n",
    "    df['Car'] = df['Car'].fillna(df['Car'].median())\n",
    "    df['CouncilArea'] = df['CouncilArea'].fillna(df['CouncilArea'].mode()[0])\n",
    "    return df"
   ]
  },
  {
   "cell_type": "code",
   "execution_count": 5,
   "metadata": {},
   "outputs": [],
   "source": [
    "def save_clean_data(path):\n",
    "    newTrain.to_csv(ROOT_PATH / 'data/resources/processed_data/cleanedTrain.csv', index=False)\n",
    "    newTest.to_csv(ROOT_PATH / 'data/resources/processed_data/cleanedTest.csv', index=False)"
   ]
  },
  {
   "cell_type": "code",
   "execution_count": 6,
   "metadata": {},
   "outputs": [],
   "source": [
    "def clean_data(path):\n",
    "    \n",
    "    # Read original data:\n",
    "    train_set, test_set = read_raw_data(path)\n",
    "    \n",
    "    # Fill missing values:\n",
    "    newTrain = remove_na(train_set)\n",
    "    newTest = remove_na(test_set)\n",
    "    \n",
    "    # Save clean data:\n",
    "    save_clean_data(path)"
   ]
  },
  {
   "cell_type": "code",
   "execution_count": null,
   "metadata": {},
   "outputs": [],
   "source": [
    "clean_data()"
   ]
  }
 ],
 "metadata": {
  "kernelspec": {
   "display_name": "Python 3",
   "language": "python",
   "name": "python3"
  },
  "language_info": {
   "codemirror_mode": {
    "name": "ipython",
    "version": 3
   },
   "file_extension": ".py",
   "mimetype": "text/x-python",
   "name": "python",
   "nbconvert_exporter": "python",
   "pygments_lexer": "ipython3",
   "version": "3.6.2"
  }
 },
 "nbformat": 4,
 "nbformat_minor": 4
}
